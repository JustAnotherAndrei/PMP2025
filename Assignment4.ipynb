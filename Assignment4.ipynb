{
 "cells": [
  {
   "metadata": {},
   "cell_type": "markdown",
   "source": "Subpoint a)",
   "id": "177a9aa0b3280244"
  },
  {
   "metadata": {
    "ExecuteTime": {
     "end_time": "2025-10-29T12:24:58.907593Z",
     "start_time": "2025-10-29T12:24:58.901591Z"
    }
   },
   "cell_type": "code",
   "source": [
    "import numpy as np\n",
    "from hmmlearn.hmm import CategoricalHMM\n",
    "\n",
    "states = [\"Difficult\", \"Medium\", \"Easy\"]\n",
    "grades = [\"FB\", \"B\", \"S\", \"NS\"]\n",
    "\n",
    "# mapam notele la intregi\n",
    "grade_to_int = {\"FB\": 0, \"B\": 1, \"S\": 2, \"NS\": 3}\n",
    "observations = np.array([grade_to_int[g] for g in [\"FB\", \"FB\", \"S\", \"B\", \"B\", \"S\", \"B\", \"B\", \"NS\", \"B\", \"B\"]]).reshape(-1, 1)\n",
    "\n",
    "# matricea de tranzitie\n",
    "trans_mat = np.array([\n",
    "    [0.0, 0.5, 0.5],   # Difficult\n",
    "    [0.5, 0.25, 0.25], # Medium\n",
    "    [0.5, 0.25, 0.25], # Easy\n",
    "])\n",
    "\n",
    "# prob de emisie\n",
    "emit_mat = np.array([\n",
    "    [0.1, 0.2, 0.4, 0.3],  # Difficult\n",
    "    [0.15, 0.25, 0.5, 0.1],# Medium\n",
    "    [0.2, 0.3, 0.4, 0.1],  # Easy\n",
    "])\n",
    "\n",
    "# prob initiale\n",
    "start_prob = np.array([1/3, 1/3, 1/3])\n",
    "\n",
    "# definim modelul\n",
    "model = CategoricalHMM(n_components=3, init_params=\"\")\n",
    "model.startprob_ = start_prob\n",
    "model.transmat_ = trans_mat\n",
    "model.emissionprob_ = emit_mat"
   ],
   "id": "6127ea119ab5adf9",
   "outputs": [],
   "execution_count": 6
  },
  {
   "metadata": {},
   "cell_type": "markdown",
   "source": "Subpoint b)",
   "id": "3de7ec678e2818cf"
  },
  {
   "metadata": {
    "ExecuteTime": {
     "end_time": "2025-10-29T12:24:58.948304Z",
     "start_time": "2025-10-29T12:24:58.942292Z"
    }
   },
   "cell_type": "code",
   "source": [
    "log_prob = model.score(observations)\n",
    "prob = np.exp(log_prob)\n",
    "print(f\"Probability of observed grades: {prob:.8f}\")\n"
   ],
   "id": "39e2edd4a986d2dc",
   "outputs": [
    {
     "name": "stdout",
     "output_type": "stream",
     "text": [
      "Probability of observed grades: 0.00000017\n"
     ]
    }
   ],
   "execution_count": 7
  },
  {
   "metadata": {},
   "cell_type": "markdown",
   "source": "Subpoint c)",
   "id": "98e66c63bfa76f06"
  },
  {
   "metadata": {
    "ExecuteTime": {
     "end_time": "2025-10-29T12:24:59.010431Z",
     "start_time": "2025-10-29T12:24:59.003643Z"
    }
   },
   "cell_type": "code",
   "source": [
    "log_prob, seq = model.decode(observations, algorithm=\"viterbi\")\n",
    "decoded_states = [states[i] for i in seq]\n",
    "print(\"Most probable sequence of difficulties:\", decoded_states)\n",
    "print(f\"Probability of this sequence: {np.exp(log_prob):.8f}\")"
   ],
   "id": "a7ee02df148a63f7",
   "outputs": [
    {
     "name": "stdout",
     "output_type": "stream",
     "text": [
      "Most probable sequence of difficulties: ['Easy', 'Easy', 'Difficult', 'Easy', 'Difficult', 'Medium', 'Difficult', 'Easy', 'Difficult', 'Easy', 'Difficult']\n",
      "Probability of this sequence: 0.00000000\n"
     ]
    }
   ],
   "execution_count": 8
  }
 ],
 "metadata": {
  "kernelspec": {
   "display_name": "Python 3",
   "language": "python",
   "name": "python3"
  },
  "language_info": {
   "codemirror_mode": {
    "name": "ipython",
    "version": 2
   },
   "file_extension": ".py",
   "mimetype": "text/x-python",
   "name": "python",
   "nbconvert_exporter": "python",
   "pygments_lexer": "ipython2",
   "version": "2.7.6"
  }
 },
 "nbformat": 4,
 "nbformat_minor": 5
}
