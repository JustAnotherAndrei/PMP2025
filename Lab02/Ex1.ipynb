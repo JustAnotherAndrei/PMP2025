{
 "cells": [
  {
   "metadata": {},
   "cell_type": "markdown",
   "source": "Subpunct a)",
   "id": "9b97d65b4c8660f5"
  },
  {
   "cell_type": "code",
   "id": "initial_id",
   "metadata": {
    "collapsed": true,
    "ExecuteTime": {
     "end_time": "2025-10-08T11:47:53.850975Z",
     "start_time": "2025-10-08T11:47:53.408768Z"
    }
   },
   "source": [
    "import random\n",
    "\n",
    "def simulate_experiment():\n",
    "    urna = ['red'] * 3 + ['blue'] * 4 + ['black'] * 2\n",
    "\n",
    "    die_roll = random.randint(1, 6)\n",
    "\n",
    "    if die_roll in [2, 3, 5]:\n",
    "        urna.append('black')\n",
    "    elif die_roll == 6:\n",
    "        urna.append('red')\n",
    "    else:  # celelalte\n",
    "        urna.append('blue')\n",
    "\n",
    "    bila_extrasa = random.choice(urna)\n",
    "\n",
    "    return bila_extrasa\n",
    "\n",
    "num_simulations = 100000\n",
    "red_count = 0\n",
    "\n",
    "print(\"Running simulation...\")\n",
    "for i in range(num_simulations):\n",
    "    result = simulate_experiment()\n",
    "    if result == 'red':\n",
    "        red_count += 1\n",
    "\n",
    "print(f\"Am incheiat simularile: {num_simulations}\")"
   ],
   "outputs": [
    {
     "name": "stdout",
     "output_type": "stream",
     "text": [
      "Running simulation...\n",
      "Am incheiat simularile: 100000\n"
     ]
    }
   ],
   "execution_count": 1
  },
  {
   "metadata": {},
   "cell_type": "markdown",
   "source": "Subpunct b)",
   "id": "851baf798264bcea"
  },
  {
   "metadata": {
    "ExecuteTime": {
     "end_time": "2025-10-08T11:47:54.001499Z",
     "start_time": "2025-10-08T11:47:53.976281Z"
    }
   },
   "cell_type": "code",
   "source": [
    "estimated_probability =red_count / num_simulations\n",
    "print(f\"\\n===Rezultate===\")\n",
    "print(f\"De cate ori am extras bila rosie: {red_count}\")\n",
    "print(f\"Nr total de simulari: {num_simulations}\")\n",
    "print(f\"Probabilitatea estimata de a extrage bila rosie: {estimated_probability:.5f}\")\n",
    "\n"
   ],
   "id": "d25cf1ac5cfc0610",
   "outputs": [
    {
     "name": "stdout",
     "output_type": "stream",
     "text": [
      "\n",
      "===Rezultate===\n",
      "De cate ori am extras bila rosie: 31620\n",
      "Nr total de simulari: 100000\n",
      "Probabilitatea estimata de a extrage bila rosie: 0.31620\n"
     ]
    }
   ],
   "execution_count": 2
  },
  {
   "metadata": {},
   "cell_type": "markdown",
   "source": "Subpunct c) (bonus)",
   "id": "385c32de550c1a1a"
  },
  {
   "metadata": {
    "ExecuteTime": {
     "end_time": "2025-10-08T11:47:54.192069Z",
     "start_time": "2025-10-08T11:47:54.163026Z"
    }
   },
   "cell_type": "code",
   "source": [
    "def theoretical_probability():\n",
    "    p_prime = 3/6\n",
    "    p_six = 1/6\n",
    "    p_others = 2/6\n",
    "\n",
    "    # Caz 1: nr prim pe zar => adaugam o bila neagra\n",
    "    # Urna: 3 red, 4 blue, 3 black → P(red) = 3/10\n",
    "    p_red_given_prime = 3/10\n",
    "\n",
    "    # Caz 2: 6 pe zar (adaugam o bila rosie)\n",
    "    # Urna: 4 red, 4 blue, 2 black → P(red) = 4/10\n",
    "    p_red_given_six = 4/10\n",
    "\n",
    "    # Caz 3: alt numar pe zar (adaugam o bila albastra)\n",
    "    # Urna: 3 red, 5 blue, 2 black → P(red) = 3/10\n",
    "    p_red_given_other = 3/10\n",
    "\n",
    "    # Total probability using law of total probability\n",
    "    theoretical_prob = (p_prime * p_red_given_prime +\n",
    "                       p_six * p_red_given_six +\n",
    "                       p_others * p_red_given_other)\n",
    "\n",
    "    return theoretical_prob\n",
    "\n",
    "# This line was incorrectly indented inside the function before\n",
    "theoretical_prob = theoretical_probability()\n",
    "\n",
    "print(f\"\\n--- Theoretical Calculation ---\")\n",
    "print(f\"Theoretical probability: {theoretical_prob:.5f}\")\n",
    "print(f\"Difference (simulation - theoretical): {estimated_probability - theoretical_prob:.5f}\")"
   ],
   "id": "19c9d36d53d4275a",
   "outputs": [
    {
     "name": "stdout",
     "output_type": "stream",
     "text": [
      "\n",
      "--- Theoretical Calculation ---\n",
      "Theoretical probability: 0.31667\n",
      "Difference (simulation - theoretical): -0.00047\n"
     ]
    }
   ],
   "execution_count": 3
  }
 ],
 "metadata": {
  "kernelspec": {
   "display_name": "Python 3",
   "language": "python",
   "name": "python3"
  },
  "language_info": {
   "codemirror_mode": {
    "name": "ipython",
    "version": 2
   },
   "file_extension": ".py",
   "mimetype": "text/x-python",
   "name": "python",
   "nbconvert_exporter": "python",
   "pygments_lexer": "ipython2",
   "version": "2.7.6"
  }
 },
 "nbformat": 4,
 "nbformat_minor": 5
}
