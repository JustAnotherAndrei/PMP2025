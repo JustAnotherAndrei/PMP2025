{
 "cells": [
  {
   "cell_type": "markdown",
   "metadata": {
    "colab_type": "text",
    "id": "view-in-github"
   },
   "source": [
    "<a href=\"https://colab.research.google.com/github/Tensor-Reloaded/PMP-2025/blob/main/Lab01/Demo.ipynb\" target=\"_parent\"><img src=\"https://colab.research.google.com/assets/colab-badge.svg\" alt=\"Open In Colab\"/></a>"
   ]
  },
  {
   "cell_type": "markdown",
   "metadata": {
    "id": "a2h_GWp9Hjqh"
   },
   "source": [
    "# Estimarea Înălțimii Medii a Studenților\n",
    "Să presupunem că suntem interesați să estimăm înălțimea medie a studenților dintr-o universitate. Nu avem acces la datele întregii populații, dar putem măsura înălțimea unui eșantion aleatoriu de studenți. De asemenea, știm că înălțimile umane urmează aproximativ o distribuție normală.\n",
    "\n",
    "Obiectivul nostru: Să estimăm înălțimea medie (mu) și variația în înălțimi (deviația standard sigma) a tuturor studenților, pe baza unui eșantion."
   ]
  },
  {
   "cell_type": "markdown",
   "metadata": {
    "id": "0fLA8SEtMPAn"
   },
   "source": [
    "## Pasul 1: Simularea Datelor Observate\n",
    "Pentru a simplifica, vom simula datele noastre observate. Să presupunem că:\n",
    "- Înălțimea medie reală (true_mu): 170 cm\n",
    "- Deviația standard reală (true_sigma): 10 cm\n",
    "\n",
    "Vom genera un eșantion de 100 de studenți ale căror înălțimi le vom utiliza în model."
   ]
  },
  {
   "cell_type": "code",
   "execution_count": null,
   "metadata": {
    "ExecuteTime": {
     "end_time": "2025-10-01T11:56:06.282387Z",
     "start_time": "2025-10-01T11:56:06.278253Z"
    },
    "id": "mb3Ae_tkHiGr"
   },
   "outputs": [],
   "source": [
    "import pymc as pm\n",
    "import numpy as np\n",
    "import matplotlib.pyplot as plt\n",
    "import arviz as az\n",
    "\n",
    "# Seed pentru reproducibilitate\n",
    "np.random.seed(12)\n",
    "\n",
    "# Parametrii reali\n",
    "true_mu = 170       # Înălțimea medie reală în cm\n",
    "true_sigma = 10     # Deviația standard reală în cm\n",
    "\n",
    "# Generăm datele observate (înălțimile studenților)\n",
    "observed_heights = np.random.normal(true_mu, true_sigma, size=100)"
   ]
  },
  {
   "cell_type": "markdown",
   "metadata": {
    "id": "NnHpHW84MJ0L"
   },
   "source": [
    "## Pasul 2: Vizualizarea Datelor\n",
    "Înainte de a construi modelul, este util să vizualizăm datele."
   ]
  },
  {
   "cell_type": "code",
   "execution_count": null,
   "metadata": {
    "ExecuteTime": {
     "end_time": "2025-10-01T11:56:06.433833Z",
     "start_time": "2025-10-01T11:56:06.297146Z"
    },
    "colab": {
     "base_uri": "https://localhost:8080/",
     "height": 477
    },
    "id": "2X_dh69eMfv8",
    "outputId": "fe2c55f4-4442-4812-c513-b28e40a15fa5"
   },
   "outputs": [],
   "source": [
    "# Afișăm un histogram al înălțimilor observate\n",
    "plt.hist(observed_heights, bins=15, alpha=0.7, color='lightgreen', edgecolor='black')\n",
    "plt.title('Distribuția Înălțimilor Observate ale Studenților')\n",
    "plt.xlabel('Înălțime (cm)')\n",
    "plt.ylabel('Număr de Studenți')\n",
    "plt.show()"
   ]
  },
  {
   "cell_type": "markdown",
   "metadata": {
    "id": "Qn-oz_XOMwmJ"
   },
   "source": [
    "## Pasul 3: Definirea Modelului Probabilistic\n",
    "Utilizăm PyMC pentru a defini un model probabilistic care să ne permită să estimăm mu și sigma pe baza datelor observate."
   ]
  },
  {
   "cell_type": "code",
   "execution_count": null,
   "metadata": {
    "ExecuteTime": {
     "end_time": "2025-10-01T11:56:07.907262Z",
     "start_time": "2025-10-01T11:56:06.452360Z"
    },
    "colab": {
     "base_uri": "https://localhost:8080/",
     "height": 116,
     "referenced_widgets": [
      "2b060d5b92fa473992a4df51d48834d8",
      "ba899ab2bb6345c3b62ab0c190b3b81f",
      "02233561a9254bed8bd211349af7bd95",
      "28536392bbcf4d0abd2e56efdcdfcdc7"
     ]
    },
    "id": "LM5KKOLkMzik",
    "outputId": "9c941123-97fc-46da-f49f-d5680ddb8aae"
   },
   "outputs": [],
   "source": [
    "# Definim modelul probabilistic\n",
    "with pm.Model() as model:\n",
    "    # Prior pentru înălțimea medie (mu)\n",
    "    mu = pm.Normal('mu', mu=160, sigma=15)  # Presupunem inițial că media ar putea fi în jur de 160 cm\n",
    "\n",
    "    # Prior pentru deviația standard (sigma)\n",
    "    sigma = pm.HalfNormal('sigma', sigma=10)  # Deviația standard trebuie să fie pozitivă\n",
    "\n",
    "    # Verosimilitatea datelor observate\n",
    "    heights = pm.Normal('heights', mu=mu, sigma=sigma, observed=observed_heights)\n",
    "\n",
    "    # Efectuăm eșantionarea MCMC\n",
    "    print(\"Începem eșantionarea MCMC...\")\n",
    "    trace = pm.sample(1000, tune=1000, return_inferencedata=True)\n",
    "    print(\"Eșantionarea MCMC s-a încheiat.\")\n"
   ]
  },
  {
   "cell_type": "markdown",
   "metadata": {
    "id": "iV2e-doEM8tL"
   },
   "source": [
    "### Explicații:\n",
    "Am creat un model pe baza urmatoarelor presupuneri:\n",
    "- Prior pentru mu: Presupunem inițial că înălțimea medie este în jur de 160 cm, cu o incertitudine de 15 cm.\n",
    "- Prior pentru sigma: Folosim o distribuție HalfNormal deoarece deviația standard nu poate fi negativă.\n",
    "- Verosimilitatea: Modelăm înălțimile observate ca provenind dintr-o distribuție normală cu parametrii necunoscuți mu și sigma."
   ]
  },
  {
   "cell_type": "markdown",
   "metadata": {
    "id": "e3hgISNUNTTP"
   },
   "source": [
    "## Pasul 4: Analiza Rezultatelor\n",
    "Rezumatul Posterior"
   ]
  },
  {
   "cell_type": "code",
   "execution_count": null,
   "metadata": {
    "colab": {
     "base_uri": "https://localhost:8080/"
    },
    "id": "ur85sk64NJEp",
    "outputId": "46cdb074-10f2-4fe8-e010-135dab77e38a"
   },
   "outputs": [],
   "source": [
    "# Rezumatul parametrilor posteriori\n",
    "print(\"\\nRezumatul estimărilor:\")\n",
    "summary = az.summary(trace, var_names=['mu', 'sigma'])\n",
    "print(summary)"
   ]
  },
  {
   "cell_type": "markdown",
   "metadata": {
    "id": "yStY0O6mNhCG"
   },
   "source": [
    "### Interpretare:\n",
    "\n",
    "- mu: Valoarea estimată pentru înălțimea medie a studenților.\n",
    "- sigma: Estimarea variației în înălțimi.\n"
   ]
  },
  {
   "cell_type": "markdown",
   "metadata": {
    "id": "o9iHlcfXNxcQ"
   },
   "source": [
    "## Distribuțiile Posterioare"
   ]
  },
  {
   "cell_type": "code",
   "execution_count": null,
   "metadata": {
    "colab": {
     "base_uri": "https://localhost:8080/",
     "height": 395
    },
    "id": "jqi8TBvGNy32",
    "outputId": "00d5144c-1e06-44ad-dea9-d164056ffb77"
   },
   "outputs": [],
   "source": [
    "# Afișăm distribuțiile posterioare\n",
    "print(\"\\nPlotăm distribuțiile posterioare pentru 'mu' și 'sigma'...\")\n",
    "az.plot_posterior(trace, var_names=['mu', 'sigma'], hdi_prob=0.95)\n",
    "plt.show()"
   ]
  },
  {
   "cell_type": "markdown",
   "metadata": {
    "id": "LuP56SjGN69E"
   },
   "source": [
    "### Interpretare:\n",
    "Graficul arată distribuțiile probabilistice actualizate ale parametrilor după ce am luat în considerare datele observate.\n",
    "- Pentru mu: Vedem unde este cel mai probabil să se afle înălțimea medie și cât de siguri suntem de această estimare.\n",
    "- Pentru sigma: Similar, vedem estimarea pentru deviația standard."
   ]
  },
  {
   "cell_type": "markdown",
   "metadata": {
    "id": "qwV0IiKwOFjX"
   },
   "source": [
    "## Traseele MCMC"
   ]
  },
  {
   "cell_type": "code",
   "execution_count": null,
   "metadata": {
    "colab": {
     "base_uri": "https://localhost:8080/",
     "height": 347
    },
    "id": "DaYlMlESOGlj",
    "outputId": "6dfe3dcb-ff97-4984-aed1-884b10352621"
   },
   "outputs": [],
   "source": [
    "# Plotăm traseele MCMC\n",
    "print(\"Plotăm traseele MCMC pentru 'mu' și 'sigma'...\")\n",
    "az.plot_trace(trace, var_names=['mu', 'sigma'])\n",
    "plt.show()"
   ]
  },
  {
   "cell_type": "markdown",
   "metadata": {
    "id": "GcKRwhsOOYBO"
   },
   "source": [
    "### Interpretare:\n",
    "\n",
    "Traseele arată cum valorile estimate pentru mu și sigma au evoluat pe parcursul eșantionării.\n",
    "Un traseu stabil și bine amestecat indică o eșantionare eficientă și convergența către distribuția posterioară corectă."
   ]
  },
  {
   "cell_type": "markdown",
   "metadata": {
    "id": "6M7JCuwGOfwc"
   },
   "source": [
    "## Compararea Valorilor Estimate cu Cele Reale"
   ]
  },
  {
   "cell_type": "code",
   "execution_count": null,
   "metadata": {
    "colab": {
     "base_uri": "https://localhost:8080/"
    },
    "id": "6aqek5UgOaaY",
    "outputId": "adaf6818-969f-4def-bca9-f82a472850e3"
   },
   "outputs": [],
   "source": [
    "# Comparam valorile estimate cu valorile reale\n",
    "estimated_mu = summary.loc['mu', 'mean']\n",
    "estimated_sigma = summary.loc['sigma', 'mean']\n",
    "print(f\"\\nValoarea reală a 'mu' (înălțimea medie reală): {true_mu} cm\")\n",
    "print(f\"Valoarea estimată a 'mu': {estimated_mu:.2f} cm\")\n",
    "print(f\"Valoarea reală a 'sigma' (deviația standard reală): {true_sigma} cm\")\n",
    "print(f\"Valoarea estimată a 'sigma': {estimated_sigma:.2f} cm\")"
   ]
  },
  {
   "cell_type": "markdown",
   "metadata": {
    "id": "Rv5xg_WUOkWv"
   },
   "source": [
    "### Interpretare:\n",
    "\n",
    "Observăm cât de aproape sunt estimările noastre de valorile reale folosite pentru a genera datele.\n",
    "Diferențe mici indică faptul că modelul nostru a funcționat bine."
   ]
  }
 ],
 "metadata": {
  "colab": {
   "authorship_tag": "ABX9TyOZ+Y09lBd3TsItkRgn13Yw",
   "include_colab_link": true,
   "provenance": []
  },
  "kernelspec": {
   "display_name": "Python 3",
   "language": "python",
   "name": "python3"
  },
  "language_info": {
   "codemirror_mode": {
    "name": "ipython",
    "version": 3
   },
   "file_extension": ".py",
   "mimetype": "text/x-python",
   "name": "python",
   "nbconvert_exporter": "python",
   "pygments_lexer": "ipython3",
   "version": "3.13.3"
  }
 },
 "nbformat": 4,
 "nbformat_minor": 0
}
